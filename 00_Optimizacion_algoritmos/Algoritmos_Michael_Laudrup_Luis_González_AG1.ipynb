{
  "cells": [
    {
      "cell_type": "markdown",
      "metadata": {
        "id": "R4gwezN4Erp7"
      },
      "source": [
        "## Aspectos adicionales\n",
        "\n",
        "Se han realizado los siguientes cambios sobre la actividad propuesta base\n",
        "\n",
        "- Fibonacci: He añadido un apartado denominado Fibonacci 2, el cual, desarrolla el mismo algoritmo planteado pero añadiendo memoria caché, esto es una técnica de programación dinámica (por el uso de memoria) que permitirá ahorrar cálculos duplicados.\n",
        "\n",
        "- Devolución cambio de monedas: Se aporta una versión que tiene más robustez y menos operaciones aritméticas y comprobaciones con condicionales. Además, se añade una aclaración respecto al algoritmo que explica porque no se obtiene la solución óptima global.\n",
        "\n",
        "- Se aporta una solución al problema de obtener los puntos con menor distancia\n",
        "dado un listado de puntos en diferentes formatos."
      ]
    },
    {
      "cell_type": "markdown",
      "metadata": {
        "id": "kQn6fbhgtH9I"
      },
      "source": [
        "# Algoritmos - Actividad Guiada 1\n",
        "\n",
        "Nombre: Michael Laudrup Luis González<br>\n",
        "\n",
        "URL: https://drive.google.com/file/d/1gJRtteAQEgMNendYXXeXCqWaRaizZiHt/view?usp=sharing\n",
        "\n",
        "https://github.com/MichaeLaudrup/Master_AI_VIU/tree/main/00_Optimizacion_algoritmos\n"
      ]
    },
    {
      "cell_type": "markdown",
      "metadata": {
        "id": "_t62Ge7ZuKnC"
      },
      "source": [
        "## Torres de Hanoi con Divide y vencerás"
      ]
    },
    {
      "cell_type": "code",
      "execution_count": null,
      "metadata": {
        "colab": {
          "base_uri": "https://localhost:8080/"
        },
        "id": "i32G0CUQvauE",
        "outputId": "bc04669b-4775-4b3e-cc72-b4fa3d2d5368"
      },
      "outputs": [
        {
          "name": "stdout",
          "output_type": "stream",
          "text": [
            "Lleva la ficha  1  hasta  3\n",
            "Lleva la ficha  1  hasta  2\n",
            "Lleva la ficha  3  hasta  2\n",
            "Lleva la ficha  1  hasta  3\n",
            "Lleva la ficha  2  hasta  1\n",
            "Lleva la ficha  2  hasta  3\n",
            "Lleva la ficha  1  hasta  3\n"
          ]
        }
      ],
      "source": [
        "def Torres_Hanoi(N, desde, hasta):\n",
        "  if N == 1:\n",
        "    print(\"Lleva la ficha \" ,desde , \" hasta \", hasta )\n",
        "  else:\n",
        "    #Torres_Hanoi(N-1, desde, 6-desde-hasta )\n",
        "    Torres_Hanoi(N-1, desde, 6-desde-hasta )\n",
        "    print(\"Lleva la ficha \" ,desde , \" hasta \", hasta )\n",
        "    #Torres_Hanoi(N-1,6-desde-hasta, hasta )\n",
        "    Torres_Hanoi(N-1, 6-desde-hasta  , hasta )\n",
        "\n",
        "Torres_Hanoi(3, 1 , 3)"
      ]
    },
    {
      "cell_type": "markdown",
      "metadata": {
        "id": "RGF5p-sJCQJf"
      },
      "source": [
        "## Fibonacci"
      ]
    },
    {
      "cell_type": "code",
      "execution_count": null,
      "metadata": {
        "colab": {
          "base_uri": "https://localhost:8080/"
        },
        "id": "74qZZAekiNYR",
        "outputId": "079cd0f2-f738-4ca3-801a-2fc1a068c9e6"
      },
      "outputs": [
        {
          "data": {
            "text/plain": [
              "8"
            ]
          },
          "execution_count": 34,
          "metadata": {},
          "output_type": "execute_result"
        }
      ],
      "source": [
        "#Sucesión_de_Fibonacci\n",
        "#https://es.wikipedia.org/wiki/Sucesi%C3%B3n_de_Fibonacci\n",
        "#Calculo del termino n-simo de la sucesión de Fibonacci\n",
        "def Fibonacci(N:int):\n",
        "  if N < 2:\n",
        "    return 1\n",
        "  else:\n",
        "    return Fibonacci(N-1)+Fibonacci(N-2)\n",
        "\n",
        "Fibonacci(5)"
      ]
    },
    {
      "cell_type": "markdown",
      "metadata": {
        "id": "Gaq3_UpdCTPn"
      },
      "source": [
        "## Fibonacci II (Michael)\n",
        "\n",
        "En este caso utilizamos programación dinámica para almacenar temporalmente en memoria RAM resultados pre-calculados y así ahorrar llamadas recursivas duplicadas."
      ]
    },
    {
      "cell_type": "code",
      "execution_count": null,
      "metadata": {
        "colab": {
          "base_uri": "https://localhost:8080/"
        },
        "id": "8zemDQtCC3Co",
        "outputId": "3c5d72e0-1836-40e4-fb0e-dd268e3cde6a"
      },
      "outputs": [
        {
          "name": "stdout",
          "output_type": "stream",
          "text": [
            "55\n"
          ]
        }
      ],
      "source": [
        "def fibonnaci(n, cache = {0: 0, 1:1}):\n",
        "    # Si el valor existe en cache significa que ha sido previamente calculado\n",
        "    if(n in cache):\n",
        "        return cache[n]\n",
        "    else:\n",
        "        # Primero se llamara a la llamada recursiva de la izquierda, así,\n",
        "        # cuando se llame a la de la derecha ya estarán calculados los\n",
        "        # n-1 valores de fibonacci\n",
        "        cache[n] = fibonnaci(n-1, cache) + fibonnaci(n-2, cache)\n",
        "        return cache[n]\n",
        "\n",
        "print(fibonnaci(10))"
      ]
    },
    {
      "cell_type": "markdown",
      "metadata": {
        "id": "RgT5XJsZ429L"
      },
      "source": [
        "##Devolución de cambio por técnica voraz"
      ]
    },
    {
      "cell_type": "code",
      "execution_count": null,
      "metadata": {
        "colab": {
          "base_uri": "https://localhost:8080/"
        },
        "id": "uJtftBLU4-ap",
        "outputId": "3c587546-6d04-49cc-c7d5-272569820fa0"
      },
      "outputs": [
        {
          "data": {
            "text/plain": [
              "[0, 1, 1, 0]"
            ]
          },
          "execution_count": 36,
          "metadata": {},
          "output_type": "execute_result"
        }
      ],
      "source": [
        "def cambio_monedas(N, SM):\n",
        "  SOLUCION = [0]*len(SM)   #SOLUCION = [0,0,0,0,..]\n",
        "  ValorAcumulado = 0\n",
        "\n",
        "  for i,valor in enumerate(SM):\n",
        "    monedas =  (N-ValorAcumulado)//valor\n",
        "    SOLUCION[i] = monedas\n",
        "    ValorAcumulado = ValorAcumulado + monedas*valor\n",
        "\n",
        "    if ValorAcumulado == N:\n",
        "      return SOLUCION\n",
        "\n",
        "\n",
        "cambio_monedas(15,[25,10,5,1])"
      ]
    },
    {
      "cell_type": "markdown",
      "metadata": {
        "id": "rqFVf7icJtOZ"
      },
      "source": [
        "## Devolución del cambio de monedas (Michael)\n",
        "\n",
        "Aquí tenemos una versión que no mejora la anterior a nivel de coste computacional teórico pero si que es más robusta, es decir, no presuponemos que las monedas están ordenadas, sino que damos soporte a sistema monetarios no ordenados y también se reduce el número de operaciones elementales a realizar"
      ]
    },
    {
      "cell_type": "code",
      "execution_count": null,
      "metadata": {
        "colab": {
          "base_uri": "https://localhost:8080/"
        },
        "id": "aVXqWPCiJwRj",
        "outputId": "5b8eb586-5c5a-4498-bf87-877cc71a6af5"
      },
      "outputs": [
        {
          "name": "stdout",
          "output_type": "stream",
          "text": [
            "Caso propuesto profesor {25: 0, 10: 1, 5: 1, 1: 0} Total monedas 2\n",
            "Caso donde no encuentra óptimo global {4: 1, 3: 0, 1: 2} Total monedas 3\n"
          ]
        }
      ],
      "source": [
        "def get_change(quantity, money_system):\n",
        "    coin_counter_dic = { }\n",
        "    coins = sorted(money_system, reverse=True)\n",
        "    for coin in coins:\n",
        "        coin_counter_dic[coin] = quantity // coin # optimización local con esperanza global.\n",
        "        quantity = quantity % coin\n",
        "        # Una vez procesamos una moneda la descartamos y continuamos\n",
        "        # con otros candidatos\n",
        "\n",
        "    return coin_counter_dic\n",
        "\n",
        "# Caso similar al propuesto en AG1\n",
        "case_1 = get_change(15, (25,10,5,1))\n",
        "print('Caso propuesto profesor', case_1, 'Total monedas', sum(case_1.values()))\n",
        "case_2 = get_change(6, (1,3,4))\n",
        "print('Caso donde no encuentra óptimo global', get_change(6, (1,3,4)), 'Total monedas', sum(case_2.values()))"
      ]
    },
    {
      "cell_type": "markdown",
      "metadata": {
        "id": "WGRX06FzQ41a"
      },
      "source": [
        "### ¿Qué pasaría con sistemas monetarios alternativos?\n",
        "\n",
        "Como se puede apreciar, en el caso 2, no se nos da la mejor solución que sería 2 monedas de 3 unidades monetarias, sino que se nos devuelve 3 monedas en total en lugar de 2. Esto es una característica de los algoritmos voraces, no piensan a nivel global sino a nivel local. Para mejorar este algoritmo, una de las posibles soluciones sería utilizar programación dinámica y apoyarse en la memoria RAM para construir una solución."
      ]
    },
    {
      "cell_type": "markdown",
      "metadata": {
        "id": "g8M9GTvy_Fa3"
      },
      "source": [
        "## N-Reinas por técnica de vuelta atrás\n"
      ]
    },
    {
      "cell_type": "code",
      "execution_count": null,
      "metadata": {
        "colab": {
          "base_uri": "https://localhost:8080/"
        },
        "id": "FqOPyCmv_K65",
        "outputId": "c27c9fe8-607e-4ffe-e93b-5fda14a1007c"
      },
      "outputs": [
        {
          "name": "stdout",
          "output_type": "stream",
          "text": [
            "[1, 5, 8, 6, 3, 7, 2, 4]\n",
            "\n",
            "[1, 6, 8, 3, 7, 4, 2, 5]\n",
            "\n",
            "[1, 7, 4, 6, 8, 2, 5, 3]\n",
            "\n",
            "[1, 7, 5, 8, 2, 4, 6, 3]\n",
            "\n",
            "[2, 4, 6, 8, 3, 1, 7, 5]\n",
            "\n",
            "[2, 5, 7, 1, 3, 8, 6, 4]\n",
            "\n",
            "[2, 5, 7, 4, 1, 8, 6, 3]\n",
            "\n",
            "[2, 6, 1, 7, 4, 8, 3, 5]\n",
            "\n",
            "[2, 6, 8, 3, 1, 4, 7, 5]\n",
            "\n",
            "[2, 7, 3, 6, 8, 5, 1, 4]\n",
            "\n",
            "[2, 7, 5, 8, 1, 4, 6, 3]\n",
            "\n",
            "[2, 8, 6, 1, 3, 5, 7, 4]\n",
            "\n",
            "[3, 1, 7, 5, 8, 2, 4, 6]\n",
            "\n",
            "[3, 5, 2, 8, 1, 7, 4, 6]\n",
            "\n",
            "[3, 5, 2, 8, 6, 4, 7, 1]\n",
            "\n",
            "[3, 5, 7, 1, 4, 2, 8, 6]\n",
            "\n",
            "[3, 5, 8, 4, 1, 7, 2, 6]\n",
            "\n",
            "[3, 6, 2, 5, 8, 1, 7, 4]\n",
            "\n",
            "[3, 6, 2, 7, 1, 4, 8, 5]\n",
            "\n",
            "[3, 6, 2, 7, 5, 1, 8, 4]\n",
            "\n",
            "[3, 6, 4, 1, 8, 5, 7, 2]\n",
            "\n",
            "[3, 6, 4, 2, 8, 5, 7, 1]\n",
            "\n",
            "[3, 6, 8, 1, 4, 7, 5, 2]\n",
            "\n",
            "[3, 6, 8, 1, 5, 7, 2, 4]\n",
            "\n",
            "[3, 6, 8, 2, 4, 1, 7, 5]\n",
            "\n",
            "[3, 7, 2, 8, 5, 1, 4, 6]\n",
            "\n",
            "[3, 7, 2, 8, 6, 4, 1, 5]\n",
            "\n",
            "[3, 8, 4, 7, 1, 6, 2, 5]\n",
            "\n",
            "[4, 1, 5, 8, 2, 7, 3, 6]\n",
            "\n",
            "[4, 1, 5, 8, 6, 3, 7, 2]\n",
            "\n",
            "[4, 2, 5, 8, 6, 1, 3, 7]\n",
            "\n",
            "[4, 2, 7, 3, 6, 8, 1, 5]\n",
            "\n",
            "[4, 2, 7, 3, 6, 8, 5, 1]\n",
            "\n",
            "[4, 2, 7, 5, 1, 8, 6, 3]\n",
            "\n",
            "[4, 2, 8, 5, 7, 1, 3, 6]\n",
            "\n",
            "[4, 2, 8, 6, 1, 3, 5, 7]\n",
            "\n",
            "[4, 6, 1, 5, 2, 8, 3, 7]\n",
            "\n",
            "[4, 6, 8, 2, 7, 1, 3, 5]\n",
            "\n",
            "[4, 6, 8, 3, 1, 7, 5, 2]\n",
            "\n",
            "[4, 7, 1, 8, 5, 2, 6, 3]\n",
            "\n",
            "[4, 7, 3, 8, 2, 5, 1, 6]\n",
            "\n",
            "[4, 7, 5, 2, 6, 1, 3, 8]\n",
            "\n",
            "[4, 7, 5, 3, 1, 6, 8, 2]\n",
            "\n",
            "[4, 8, 1, 3, 6, 2, 7, 5]\n",
            "\n",
            "[4, 8, 1, 5, 7, 2, 6, 3]\n",
            "\n",
            "[4, 8, 5, 3, 1, 7, 2, 6]\n",
            "\n",
            "[5, 1, 4, 6, 8, 2, 7, 3]\n",
            "\n",
            "[5, 1, 8, 4, 2, 7, 3, 6]\n",
            "\n",
            "[5, 1, 8, 6, 3, 7, 2, 4]\n",
            "\n",
            "[5, 2, 4, 6, 8, 3, 1, 7]\n",
            "\n",
            "[5, 2, 4, 7, 3, 8, 6, 1]\n",
            "\n",
            "[5, 2, 6, 1, 7, 4, 8, 3]\n",
            "\n",
            "[5, 2, 8, 1, 4, 7, 3, 6]\n",
            "\n",
            "[5, 3, 1, 6, 8, 2, 4, 7]\n",
            "\n",
            "[5, 3, 1, 7, 2, 8, 6, 4]\n",
            "\n",
            "[5, 3, 8, 4, 7, 1, 6, 2]\n",
            "\n",
            "[5, 7, 1, 3, 8, 6, 4, 2]\n",
            "\n",
            "[5, 7, 1, 4, 2, 8, 6, 3]\n",
            "\n",
            "[5, 7, 2, 4, 8, 1, 3, 6]\n",
            "\n",
            "[5, 7, 2, 6, 3, 1, 4, 8]\n",
            "\n",
            "[5, 7, 2, 6, 3, 1, 8, 4]\n",
            "\n",
            "[5, 7, 4, 1, 3, 8, 6, 2]\n",
            "\n",
            "[5, 8, 4, 1, 3, 6, 2, 7]\n",
            "\n",
            "[5, 8, 4, 1, 7, 2, 6, 3]\n",
            "\n",
            "[6, 1, 5, 2, 8, 3, 7, 4]\n",
            "\n",
            "[6, 2, 7, 1, 3, 5, 8, 4]\n",
            "\n",
            "[6, 2, 7, 1, 4, 8, 5, 3]\n",
            "\n",
            "[6, 3, 1, 7, 5, 8, 2, 4]\n",
            "\n",
            "[6, 3, 1, 8, 4, 2, 7, 5]\n",
            "\n",
            "[6, 3, 1, 8, 5, 2, 4, 7]\n",
            "\n",
            "[6, 3, 5, 7, 1, 4, 2, 8]\n",
            "\n",
            "[6, 3, 5, 8, 1, 4, 2, 7]\n",
            "\n",
            "[6, 3, 7, 2, 4, 8, 1, 5]\n",
            "\n",
            "[6, 3, 7, 2, 8, 5, 1, 4]\n",
            "\n",
            "[6, 3, 7, 4, 1, 8, 2, 5]\n",
            "\n",
            "[6, 4, 1, 5, 8, 2, 7, 3]\n",
            "\n",
            "[6, 4, 2, 8, 5, 7, 1, 3]\n",
            "\n",
            "[6, 4, 7, 1, 3, 5, 2, 8]\n",
            "\n",
            "[6, 4, 7, 1, 8, 2, 5, 3]\n",
            "\n",
            "[6, 8, 2, 4, 1, 7, 5, 3]\n",
            "\n",
            "[7, 1, 3, 8, 6, 4, 2, 5]\n",
            "\n",
            "[7, 2, 4, 1, 8, 5, 3, 6]\n",
            "\n",
            "[7, 2, 6, 3, 1, 4, 8, 5]\n",
            "\n",
            "[7, 3, 1, 6, 8, 5, 2, 4]\n",
            "\n",
            "[7, 3, 8, 2, 5, 1, 6, 4]\n",
            "\n",
            "[7, 4, 2, 5, 8, 1, 3, 6]\n",
            "\n",
            "[7, 4, 2, 8, 6, 1, 3, 5]\n",
            "\n",
            "[7, 5, 3, 1, 6, 8, 2, 4]\n",
            "\n",
            "[8, 2, 4, 1, 7, 5, 3, 6]\n",
            "\n",
            "[8, 2, 5, 3, 1, 7, 4, 6]\n",
            "\n",
            "[8, 3, 1, 6, 2, 5, 7, 4]\n",
            "\n",
            "[8, 4, 1, 3, 6, 2, 7, 5]\n",
            "\n"
          ]
        }
      ],
      "source": [
        "def escribe(S):\n",
        "  n = len(S)\n",
        "  for x in range(n):\n",
        "    print(\"\")\n",
        "    for i in range(n):\n",
        "      if S[i] == x+1:\n",
        "        print(\" X \" , end=\"\")\n",
        "      else:\n",
        "        print(\" - \", end=\"\")\n",
        "\n",
        "\n",
        "def es_prometedora(SOLUCION,etapa):\n",
        "  #print(SOLUCION)\n",
        "  #Si la solución tiene dos valores iguales no es valida => Dos reinas en la misma fila\n",
        "  for i in range(etapa+1):\n",
        "    #print(\"El valor \" + str(SOLUCION[i]) + \" está \" +  str(SOLUCION.count(SOLUCION[i])) + \" veces\")\n",
        "    if SOLUCION.count(SOLUCION[i]) > 1:\n",
        "      return False\n",
        "\n",
        "    #Verifica las diagonales\n",
        "    for j in range(i+1, etapa +1 ):\n",
        "      #print(\"Comprobando diagonal de \" + str(i) + \" y \" + str(j))\n",
        "      if abs(i-j) == abs(SOLUCION[i]-SOLUCION[j]) : return False\n",
        "  return True\n",
        "\n",
        "\n",
        "\n",
        "def reinas(N, solucion=[], etapa=0):\n",
        "  if len(solucion) == 0:\n",
        "      solucion=[0 for i in range(N)]\n",
        "\n",
        "  for i in range(1, N+1):\n",
        "    solucion[etapa] = i\n",
        "\n",
        "    if es_prometedora(solucion, etapa):\n",
        "      if etapa == N-1:\n",
        "        print(solucion)\n",
        "        #escribe(solucion)\n",
        "        print()\n",
        "      else:\n",
        "        reinas(N, solucion, etapa+1)\n",
        "    else:\n",
        "      None\n",
        "\n",
        "    solucion[etapa] = 0\n",
        "\n",
        "reinas(8)"
      ]
    },
    {
      "cell_type": "markdown",
      "metadata": {
        "id": "p1VZhNzjUfiy"
      },
      "source": [
        "## Viaje por el rio. Programación dinámica"
      ]
    },
    {
      "cell_type": "code",
      "execution_count": null,
      "metadata": {
        "colab": {
          "base_uri": "https://localhost:8080/",
          "height": 365
        },
        "id": "qoqU1XciUdRn",
        "outputId": "85ee1809-99dd-470d-bc3a-fc89829e3d3e"
      },
      "outputs": [
        {
          "name": "stdout",
          "output_type": "stream",
          "text": [
            "PRECIOS\n",
            "[0, 5, 4, 3, 8, 8, 11]\n",
            "[9999, 0, 999, 2, 3, 8, 7]\n",
            "[9999, 9999, 0, 1, 6, 4, 7]\n",
            "[9999, 9999, 9999, 0, 5, 6, 9]\n",
            "[9999, 9999, 9999, 9999, 0, 999, 4]\n",
            "[9999, 9999, 9999, 9999, 9999, 0, 3]\n",
            "[9999, 9999, 9999, 9999, 9999, 9999, 9999]\n",
            "\n",
            "RUTA\n",
            "[0, 0, 0, 0, 1, 2, 5]\n",
            "['', 1, 1, 1, 1, 3, 4]\n",
            "['', '', 2, 2, 3, 2, 5]\n",
            "['', '', '', 3, 3, 3, 3]\n",
            "['', '', '', '', 4, 4, 4]\n",
            "['', '', '', '', '', 5, 5]\n",
            "['', '', '', '', '', '', '']\n",
            "\n",
            "La ruta es:\n"
          ]
        },
        {
          "data": {
            "application/vnd.google.colaboratory.intrinsic+json": {
              "type": "string"
            },
            "text/plain": [
              "',0,2,5'"
            ]
          },
          "execution_count": 49,
          "metadata": {},
          "output_type": "execute_result"
        }
      ],
      "source": [
        "TARIFAS = [\n",
        "[0,5,4,3,999,999,999],\n",
        "[999,0,999,2,3,999,11],\n",
        "[999,999, 0,1,999,4,10],\n",
        "[999,999,999, 0,5,6,9],\n",
        "[999,999, 999,999,0,999,4],\n",
        "[999,999, 999,999,999,0,3],\n",
        "[999,999,999,999,999,999,0]\n",
        "]\n",
        "\n",
        "\n",
        "\n",
        "################################################################\n",
        "def Precios(TARIFAS):\n",
        "################################################################\n",
        "  #Total de Nodos\n",
        "  N = len(TARIFAS[0])\n",
        "\n",
        "  #Inicialización de la tabla de precios\n",
        "  PRECIOS = [ [9999]*N for i in [9999]*N]\n",
        "  RUTA = [ [\"\"]*N for i in [\"\"]*N]\n",
        "\n",
        "  for i in range(0,N-1):\n",
        "    RUTA[i][i] = i             #Para ir de i a i se \"pasa por i\"\n",
        "    PRECIOS[i][i] = 0          #Para ir de i a i se se paga 0\n",
        "    for j in range(i+1, N):\n",
        "      MIN = TARIFAS[i][j]\n",
        "      RUTA[i][j] = i\n",
        "\n",
        "      for k in range(i, j):\n",
        "        if PRECIOS[i][k] + TARIFAS[k][j] < MIN:\n",
        "            MIN = min(MIN, PRECIOS[i][k] + TARIFAS[k][j] )\n",
        "            RUTA[i][j] = k          #Anota que para ir de i a j hay que pasar por k\n",
        "        PRECIOS[i][j] = MIN\n",
        "\n",
        "  return PRECIOS,RUTA\n",
        "################################################################\n",
        "\n",
        "\n",
        "PRECIOS,RUTA = Precios(TARIFAS)\n",
        "#print(PRECIOS[0][6])\n",
        "\n",
        "print(\"PRECIOS\")\n",
        "for i in range(len(TARIFAS)):\n",
        "  print(PRECIOS[i])\n",
        "\n",
        "print(\"\\nRUTA\")\n",
        "for i in range(len(TARIFAS)):\n",
        "  print(RUTA[i])\n",
        "\n",
        "#Determinar la ruta con Recursividad\n",
        "def calcular_ruta(RUTA, desde, hasta):\n",
        "  if desde == hasta:\n",
        "    #print(\"Ir a :\" + str(desde))\n",
        "    return \"\"\n",
        "  else:\n",
        "    return str(calcular_ruta( RUTA, desde, RUTA[desde][hasta])) +  \\\n",
        "                ',' + \\\n",
        "                str(RUTA[desde][hasta] \\\n",
        "              )\n",
        "\n",
        "print(\"\\nLa ruta es:\")\n",
        "calcular_ruta(RUTA, 0,6)"
      ]
    },
    {
      "cell_type": "markdown",
      "metadata": {
        "id": "Hi110I9tWE3C"
      },
      "source": [
        "##  Encontrar los dos puntos más cercanos\n",
        "\n",
        "### Primer intento: Fuerza bruta\n",
        "\n",
        "En el caso de aplicar fuerza bruta tendríamos el siguiente fragmento de código"
      ]
    },
    {
      "cell_type": "code",
      "execution_count": null,
      "metadata": {
        "colab": {
          "base_uri": "https://localhost:8080/"
        },
        "id": "3uMfSR-pYvav",
        "outputId": "1726e202-e6b2-4ead-d2e0-3091e15fbc10"
      },
      "outputs": [
        {
          "name": "stdout",
          "output_type": "stream",
          "text": [
            "({1}, {'index': 2, 'value': 20}, {'index': 4, 'value': 19})\n"
          ]
        }
      ],
      "source": [
        "import random\n",
        "LISTA_1D = [random.randrange(1,10000) for x in range(1000)]\n",
        "\n",
        "def brute_force(points):\n",
        "  best_distance = abs(points[0] - points[1])\n",
        "  point_A =  {\n",
        "      \"index\": 0,\n",
        "      \"value\": points[0]\n",
        "  }\n",
        "\n",
        "  point_B = {\n",
        "      \"index\": 1,\n",
        "      \"value\": points[1]\n",
        "  }\n",
        "\n",
        "  for idx, point in enumerate(points):\n",
        "    for idx2, point2 in enumerate(points[idx + 1:]):\n",
        "       if (abs(point - point2) < best_distance):\n",
        "         point_A = {\n",
        "             \"index\": idx,\n",
        "             \"value\": point\n",
        "         }\n",
        "         point_B = {\n",
        "             \"index\": idx + idx2,\n",
        "             \"value\": point2\n",
        "         }\n",
        "         best_distance = abs(point - point2)\n",
        "\n",
        "  return {best_distance}, point_A, point_B\n",
        "\n",
        "\n",
        "print(brute_force([1,10,20,15,25,19, 5]))"
      ]
    },
    {
      "cell_type": "code",
      "execution_count": null,
      "metadata": {
        "id": "2YePZeSmdUnf"
      },
      "outputs": [],
      "source": []
    },
    {
      "cell_type": "markdown",
      "metadata": {
        "id": "NLiEHgI9d-rt"
      },
      "source": [
        "### Coste temporal de fuerza bruta\n",
        "\n",
        "Podemos sacar las siguientes conclusiones:\n",
        "\n",
        "- El primer bucle for itera sobre cada elemento de la lista points. Si la lista tiene \"n\" elementos, esta bucle se ejecuta \"n\" veces.\n",
        "\n",
        "- El segundo bucle itera sobre una sublista de elementos de tal forma que en cuando idx es cero, iterara sobre n-1 elementos, cuando idx es 1, iterara sobre n-2 elementos, etc. Así evitamos hacer comparaciones previamente hechas (punto A comparada con B y luego comparar punto B con A)\n",
        "\n",
        "Por lo tanto podemos concluir que el coste temporal por fuerza bruta será de $\\mathcal{O}(n^2)$.\n",
        "\n",
        "Además, en el caso extensible de 2D y 3D tendrá el mismo coste asintótico temporal dado que lo único que cambia es la manera de calcular la distancia, no el algoritmo y la estrategia en si misma.\n",
        "\n",
        "### Caso 1D con estrategia de divide y vencerás\n",
        "\n",
        "En el siguiente fragmento de código se muestra una estrategia recursiva para resolver el mismo problema"
      ]
    },
    {
      "cell_type": "code",
      "execution_count": null,
      "metadata": {
        "colab": {
          "base_uri": "https://localhost:8080/"
        },
        "id": "YddC-f7ilGta",
        "outputId": "43209245-9db2-45e5-f9f8-9609ab3d995a"
      },
      "outputs": [
        {
          "name": "stdout",
          "output_type": "stream",
          "text": [
            "{'distance': 0, 'A': 322, 'B': 322}\n"
          ]
        }
      ],
      "source": [
        "import math\n",
        "\n",
        "def calc_distance(pointA, pointB):\n",
        "    if isinstance(pointA, int):\n",
        "        return abs(pointA - pointB)\n",
        "    elif len(pointA) == 2:\n",
        "        delta_x = pointB[0] - pointA[0]\n",
        "        delta_y = pointB[1] - pointA[1]\n",
        "        return math.sqrt(delta_x**2 + delta_y**2)\n",
        "    elif len(pointA) == 3:\n",
        "        delta_x = pointB[0] - pointA[0]\n",
        "        delta_y = pointB[1] - pointA[1]\n",
        "        delta_z = pointB[2] - pointA[2]\n",
        "        return math.sqrt(delta_x**2 + delta_y**2 + delta_z**2)\n",
        "\n",
        "def trivial_case(points):\n",
        "    min_dist = float('inf')\n",
        "    best_pair = (None, None)\n",
        "\n",
        "    # Como maximo dara 3 vueltas porque a esta funcion solo se llama\n",
        "    # con listados de casos triviales, por lo que en el coste temporal\n",
        "    # asintótico no se tendrá en cuenta (las constantes son absorvidas por\n",
        "    # el termino dominante)\n",
        "    for i in range(len(points)):\n",
        "        for j in range(i + 1, len(points)):\n",
        "            d = calc_distance(points[i], points[j])\n",
        "            if d < min_dist:\n",
        "                min_dist = d\n",
        "                best_pair = (points[i], points[j])\n",
        "\n",
        "    return {\n",
        "        \"distance\": min_dist,\n",
        "        \"A\": best_pair[0],\n",
        "        \"B\": best_pair[1]\n",
        "    }\n",
        "\n",
        "\n",
        "\"\"\"\n",
        "   Damos por hecho que el listado de puntos que recibimos esta ordenado\n",
        "   si esto no es así, entonces consideraremos este algoritmo erroneo.\n",
        "\"\"\"\n",
        "def shorter_distance(points):\n",
        "    if len(points) <= 3:\n",
        "        return trivial_case(points)\n",
        "\n",
        "    mid = len(points) // 2\n",
        "    border_distance = {\n",
        "        \"distance\": calc_distance(points[mid-1], points[mid]),\n",
        "        \"A\": points[mid-1],\n",
        "        \"B\": points[mid]\n",
        "    }\n",
        "    left_best_distance = shorter_distance(points[:mid])\n",
        "    right_best_distance = shorter_distance(points[mid:])\n",
        "    # Retornar el mejor entre los dos\n",
        "    return min([border_distance, left_best_distance, right_best_distance], key=lambda x: x[\"distance\"])\n",
        "\n",
        "# Para 1D es importante ordenar primero\n",
        "\n",
        "list_A= [random.randrange(1,10000) for x in range(1000)]\n",
        "sorted_list = sorted(list_A)\n",
        "#sorted_list = [1,5,4,1,2,46,2,12,41,35,6,13,124,126,5,1]\n",
        "#sorted_list = [(0,0), (1,2), (4,5), (10,11), (1,1)]\n",
        "#sorted_list = [(0,0,0), (1,1,1), (0,0,1)]\n",
        "result = shorter_distance(sorted_list)\n",
        "print(result)"
      ]
    },
    {
      "cell_type": "markdown",
      "metadata": {
        "id": "BAsZLtC6GpvS"
      },
      "source": [
        "Nota: La probabilidad e que caigan duplicados es alta porque el listado propuesto en la diapositivas es muy alta, si se prueba con listados más cortos se obtendrán resultados diferentes a distancia 0.\n",
        "\n",
        "## Coste asintótico temporal de calculo de distancia mínima en 1D\n",
        "\n",
        "Sea la recurrencia:\n",
        "\n",
        "$$\n",
        "T(n) = \\left\\{\n",
        "\\begin{array}{ll}\n",
        "  c \\cdot n^k & \\text{si } n < b \\\\\n",
        "  a \\cdot T(\\frac{n}{b}) + c \\cdot n^k & \\text{si } n \\geq b\n",
        "\\end{array}\n",
        "\\right.\n",
        "$$\n",
        "\n",
        "Entonces, según el Teorema Maestro:\n",
        "\n",
        "- Si $a < b^k$, entonces $T(n) = \\mathcal{O}(n^k)$\n",
        "- Si $a = b^k$, entonces $T(n) = \\mathcal{O}(n^k \\log n)$\n",
        "- Si $a > b^k$, entonces $T(n) = \\mathcal{O}(n^{\\log_b a})$\n",
        "\n",
        "Donde:\n",
        "\n",
        "- \\( a \\): número de subproblemas\n",
        "- \\( b \\): factor por el que se reduce el tamaño en cada llamada\n",
        "- \\( k \\): coste del trabajo fuera de la recursión\n",
        "\n",
        "Podemos deducir que \"b\" será igual a 2, porque en cada llamada recursiva el problema se dividirá en dos sub-partes. Además, el número de llamadas recursivas que se invocan en la función son 2 también, por lo que a = 2.\n",
        "\n",
        "Adicionalmente, \"k\" lo podemos considerar 1 porque las operaciones fuera de la recursión incluyen hacer un \"slicing\" de los listados con las instrucciones python \"points[:mid]\" y \"points[mid:]\" tiene coste lineal $\\mathcal{O}(n)$\n",
        "\n",
        "De todo esto podremos deducir que al ser $a = b^k (2 = 2)$ el coste temporal será de $\\mathcal{O}(n · log(n))$\n"
      ]
    },
    {
      "cell_type": "markdown",
      "metadata": {
        "id": "1hVxVBCWKFOV"
      },
      "source": [
        "## Conclusiones finales\n",
        "\n",
        "Aunque inicialmente se intentó aplicar una solución general para los casos 2D y 3D utilizando la estrategia de divide y vencerás, el algoritmo propuesto solo funciona correctamente cuando no hay conflictos entre puntos cercanos a la frontera.\n",
        "Esto no ocurre en el caso 1D porque la lista está previamente ordenada, lo que permite comparar directamente los puntos vecinos a ambos lados de la división.\n",
        "\n",
        "Sin embargo, en 2D y 3D el criterio de ordenación se vuelve más complejo. Para resolver correctamente el problema de la frontera en estos casos, es necesario aplicar estrategias más sofisticadas. Aunque el algoritmo calcula correctamente la distancia mínima en cada mitad, falla al no evaluar adecuadamente las posibles distancias mínimas entre puntos cercanos que están en lados opuestos de la división.\n",
        "\n",
        "En resumen, la estrategia de divide y vencerás resulta eficiente para encontrar la menor distancia entre puntos en una dimensión (1D), gracias a que la ordenación previa permite manejar correctamente los casos frontera. Sin embargo, al extender el algoritmo a espacios de mayor dimensión (2D o 3D), surgen nuevos desafíos: la complejidad en el criterio de ordenación y la gestión de los puntos cercanos a la división central."
      ]
    }
  ],
  "metadata": {
    "colab": {
      "provenance": []
    },
    "kernelspec": {
      "display_name": "Python 3",
      "name": "python3"
    }
  },
  "nbformat": 4,
  "nbformat_minor": 0
}