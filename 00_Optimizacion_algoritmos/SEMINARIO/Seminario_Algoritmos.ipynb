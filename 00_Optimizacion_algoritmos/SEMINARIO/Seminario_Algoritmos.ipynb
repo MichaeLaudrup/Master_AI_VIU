{
  "cells": [
    {
      "cell_type": "markdown",
      "metadata": {
        "id": "hVbXYX-RfPWh"
      },
      "source": [
        "# Algoritmos de optimización - Seminario<br>\n",
        "Nombre y Apellidos:  Michael Laudrup Luis González <br>\n",
        "Url: https://github.com/MichaeLaudrup/Master_AI_VIU/tree/main/00_Optimizacion_algoritmos/SEMINARIO<br>\n",
        "\n",
        "Problema: 3. Combinar cifras y operaciones\n",
        "\n",
        "## Descripción del problema:\n",
        "\n",
        "Disponemos de las 9 cigras del 1 al 9 (excluimos el cero) y de los 4 signos básicos de las operaciones fundamentales: Suma(+), resta (-), multiplicación (*) y división (/)\n",
        "\n",
        "Debemos combinarlos alternativamente sin repetir ninguno de ellos para obtener una cantidad dada. Un ejemplo sería obtener el 4. \n",
        "\n",
        "`` 4 + 2 - 6 / 3 * 1 = 4 ``\n",
        "\n",
        "Debe analizarse el problema encontrar todos los valores enteros posibles planteando las siguientes cuestiones:\n",
        "\n",
        "- ¿Qué valor máximo y mínimo se pueden obtener según las condiciones del problema?\n",
        "- ¿Es posible encontrar todos los valores enteros posibles entre dicho mínimo y máximo?\n",
        "\n",
        "Nota: Es posible usar la función de python \"eval\" para evaluar la expresión:\n",
        "\n",
        "```\n",
        "   expresion = \"4-2+6/3*1\" \n",
        "   print(eval(expresion))\n",
        "```\n",
        "\n",
        "Además de resolver el problema será necesario responder algunas preguntas relacionadas con:\n",
        "\n",
        "- Complejidad.\n",
        "- Justificar la estructura de datos elegida.\n",
        "- Generar y probar con diferentes juegos de datos de entrada.\n",
        "\n",
        "(*) La respuesta es obligatoria                                     "
      ]
    },
    {
      "cell_type": "markdown",
      "metadata": {
        "id": "AiskKkzZfy4e"
      },
      "source": [
        "\n",
        "Antes de poder dar respuesta a las dos primeras preguntas y para evitar redundancia hay que tener \n",
        "en cuenta que para poder realizar un conteo de todas las posibilidades debemos estructurar la expresión \n",
        "aritmética de la siguiente forma:\n",
        "\n",
        "`` N O N O N O N O N `` \n",
        "\n",
        "Tal que las \"N\" hacen referencia a valores numéricos y las \"O\" a operadores aritméticos. es decir, N = {1,2,3,4,5,6,7,8,9} y O = {+, -, *, /}. \n",
        "\n",
        "<b>(*)¿Cuantas posibilidades hay sin tener en cuenta las restricciones? </b>\n",
        "\n",
        "En este contextos vamos a entender \"sin restricciones\" como que podemos repetir tanto los dígitos como los operadores varias veces. En el caso de las \"N\" tenemos 9 posibilidades que se combinarán en grupos de tamaño 5, por lo que estaríamos\n",
        "hablando de una variación con repetición $n^k$,  teniendo en cuenta que n será 9 y k será 5, nos quedaría que:\n",
        "\n",
        "$n^k=9^5= 59.049$ posibles maneras de ordenar los valores numéricos.\n",
        "\n",
        "En el caso de los operadores, estaríamos hablando de una variación con repetición, por lo que habrá nuevamente n^k casos, quedandonos:\n",
        "\n",
        "$n^k=4^4=256$ maneras de ordenar los operadores.\n",
        "\n",
        "Aplicando la regla de la multiplicidad tendremos 59.049 · 256 = 15.116.544 posibilidades sin restricciones."
      ]
    },
    {
      "cell_type": "markdown",
      "metadata": {
        "id": "3_-exlrTgLd-"
      },
      "source": [
        "<b>¿Cuantas posibilidades hay teniendo en cuenta todas las restricciones?</b> \n",
        "\n",
        " el caso de las \"N\" tenemos 9 posibilidades que se combinarán en grupos de tamaño 5, por lo que estaríamos\n",
        "hablando de una variación, al no haber restricción podrá haber repeticiones quedandonos la fórmula repetición $\\frac{n!}{(n-k)!}$,  teniendo en cuenta que n será 9 y k será 5, nos quedaría que:\n",
        "\n",
        "$\\frac{9!}{(9-5)!}=15.120  $ posibles maneras de colocar los números\n",
        "\n",
        "Si ahora analizamos lo operadores se trataría de una permutación sin repetición siendo la fórmula asociada $n!$, es decir:\n",
        "$n! = 4! = 24 $ posibles maneras de ordenar los operadores \n",
        "\n",
        "Si aplicamos la regla de la multiplicidad podremos observar que en total habrá 15.120 · 24 = 362.880 posibilidades."
      ]
    },
    {
      "cell_type": "markdown",
      "metadata": {
        "id": "dzynfVJahHoY"
      },
      "source": [
        "Modelo para el espacio de soluciones<br>\n",
        "(*) ¿Cual es la estructura de datos que mejor se adapta al problema? Argumentalo.(Es posible que hayas elegido una al principio y veas la necesidad de cambiar, arguentalo)\n",
        "\n",
        "A primera instancia una tupla de la forma (N, O, N, O, N, O, N, O, N) parece la más intuitiva. Sin embargo, considero que depende del enfoque que se le vaya a dar, si le vamos a dar un enfoque de fuerza bruta, podríamos por cada posible agrupación de operadores (24 posibilidades) probar las 15.120 posibilidades, por lo que una estructura más apropiada para está estrategía sería la de dos tuplas, una la que diga el orden de los operadores y otra que diga el orden de los valores númericos. Juntas, las dos tuplas formaría la solución final.\n",
        "\n",
        "Para una estrategía más inteligente los primero que se me ocurre es una búsqueda implicita donde a partir de una solución aleatoria vamos alterando componentes de esta solución y viendo si se aproximan a la solución que estamos buscando o, si por el contrario, se alejan, de esta manera no es necesario generar todo el espacio de soluciones posibles, sino que si vemos que se aleja de la solución que buscamos dejamos de buscar por ese camino y en caso opuesto, si vemos que parece una solución prometedorá entonces procedemos a seguir explicando esa zona. \n",
        "\n"
      ]
    },
    {
      "cell_type": "markdown",
      "metadata": {
        "id": "7Z9U2W7bi-XS"
      },
      "source": [
        "Según el modelo para el espacio de soluciones<br>\n",
        "(*)¿Cual es la función objetivo?\n",
        "\n",
        "(*)¿Es un problema de maximización o minimización?"
      ]
    },
    {
      "cell_type": "markdown",
      "metadata": {
        "id": "hBalWLM7j1_d"
      },
      "source": [
        "Respuesta"
      ]
    },
    {
      "cell_type": "code",
      "execution_count": null,
      "metadata": {
        "id": "pDA-rg3Gj5Lz"
      },
      "outputs": [],
      "source": []
    },
    {
      "cell_type": "markdown",
      "metadata": {
        "id": "rlnTYgY1j6I2"
      },
      "source": [
        "Diseña un algoritmo para resolver el problema por fuerza bruta"
      ]
    },
    {
      "cell_type": "markdown",
      "metadata": {
        "id": "70rDgxYXkC8r"
      },
      "source": [
        "Respuesta"
      ]
    },
    {
      "cell_type": "code",
      "execution_count": null,
      "metadata": {
        "id": "CJb5sQ0qkENy"
      },
      "outputs": [],
      "source": []
    },
    {
      "cell_type": "markdown",
      "metadata": {
        "id": "tgrnsC2nkFa8"
      },
      "source": [
        "Calcula la complejidad del algoritmo por fuerza bruta"
      ]
    },
    {
      "cell_type": "markdown",
      "metadata": {
        "id": "9eUd3xwckP68"
      },
      "source": [
        "Respuesta"
      ]
    },
    {
      "cell_type": "code",
      "execution_count": null,
      "metadata": {
        "id": "rvZWwL-ckRST"
      },
      "outputs": [],
      "source": []
    },
    {
      "cell_type": "markdown",
      "metadata": {
        "id": "txbrmLmskReM"
      },
      "source": [
        "(*)Diseña un algoritmo que mejore la complejidad del algortimo por fuerza bruta. Argumenta porque crees que mejora el algoritmo por fuerza bruta"
      ]
    },
    {
      "cell_type": "markdown",
      "metadata": {
        "id": "hLrVwt5QkZPD"
      },
      "source": [
        "Respuesta"
      ]
    },
    {
      "cell_type": "code",
      "execution_count": null,
      "metadata": {
        "id": "m1eyM21Vkabg"
      },
      "outputs": [],
      "source": []
    },
    {
      "cell_type": "markdown",
      "metadata": {
        "id": "eGDB4K6uk1iN"
      },
      "source": [
        "(*)Calcula la complejidad del algoritmo"
      ]
    },
    {
      "cell_type": "markdown",
      "metadata": {
        "id": "NhpTh_BPk1ms"
      },
      "source": [
        "Respuesta"
      ]
    },
    {
      "cell_type": "code",
      "execution_count": null,
      "metadata": {
        "id": "nREzhkStlCq8"
      },
      "outputs": [],
      "source": []
    },
    {
      "cell_type": "markdown",
      "metadata": {
        "id": "3M6QjTsSkmYe"
      },
      "source": [
        "Según el problema (y tenga sentido), diseña un juego de datos de entrada aleatorios"
      ]
    },
    {
      "cell_type": "markdown",
      "metadata": {
        "id": "Jc3_OlyNkvjZ"
      },
      "source": [
        "Respuesta"
      ]
    },
    {
      "cell_type": "code",
      "execution_count": null,
      "metadata": {
        "id": "sJ-N2etjkyWc"
      },
      "outputs": [],
      "source": []
    },
    {
      "cell_type": "markdown",
      "metadata": {
        "id": "zy5ZROmjlGo1"
      },
      "source": [
        "Aplica el algoritmo al juego de datos generado"
      ]
    },
    {
      "cell_type": "markdown",
      "metadata": {
        "id": "_Cmj-PVylMsa"
      },
      "source": [
        "Respuesta"
      ]
    },
    {
      "cell_type": "code",
      "execution_count": null,
      "metadata": {
        "id": "Jkx8GeiYlUz1"
      },
      "outputs": [],
      "source": []
    },
    {
      "cell_type": "markdown",
      "metadata": {
        "id": "eTFWUJQrtGcv"
      },
      "source": [
        "Enumera las referencias que has utilizado(si ha sido necesario) para llevar a cabo el trabajo"
      ]
    },
    {
      "cell_type": "markdown",
      "metadata": {
        "id": "YKQ_mRBttWsP"
      },
      "source": [
        "Respuesta"
      ]
    },
    {
      "cell_type": "markdown",
      "metadata": {
        "id": "kAkDPUyRtYyH"
      },
      "source": [
        "Describe brevemente las lineas de como crees que es posible avanzar en el estudio del problema. Ten en cuenta incluso posibles variaciones del problema y/o variaciones al alza del tamaño"
      ]
    },
    {
      "cell_type": "markdown",
      "metadata": {
        "id": "IE0uZmo-tZu-"
      },
      "source": [
        "Respuesta"
      ]
    }
  ],
  "metadata": {
    "colab": {
      "provenance": []
    },
    "kernelspec": {
      "display_name": "Python 3",
      "name": "python3"
    }
  },
  "nbformat": 4,
  "nbformat_minor": 0
}
